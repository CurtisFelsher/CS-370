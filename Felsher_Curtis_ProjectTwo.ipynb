{
 "cells": [
  {
   "cell_type": "markdown",
   "metadata": {},
   "source": [
    "# Treasure Hunt Game Notebook\n",
    "\n",
    "## Read and Review Your Starter Code\n",
    "The theme of this project is a popular treasure hunt game in which the player needs to find the treasure before the pirate does. While you will not be developing the entire game, you will write the part of the game that represents the intelligent agent, which is a pirate in this case. The pirate will try to find the optimal path to the treasure using deep Q-learning. \n",
    "\n",
    "You have been provided with two Python classes and this notebook to help you with this assignment. The first class, TreasureMaze.py, represents the environment, which includes a maze object defined as a matrix. The second class, GameExperience.py, stores the episodes – that is, all the states that come in between the initial state and the terminal state. This is later used by the agent for learning by experience, called \"exploration\". This notebook shows how to play a game. Your task is to complete the deep Q-learning implementation for which a skeleton implementation has been provided. The code blocks you will need to complete has #TODO as a header.\n",
    "\n",
    "First, read and review the next few code and instruction blocks to understand the code that you have been given."
   ]
  },
  {
   "cell_type": "code",
   "execution_count": 14,
   "metadata": {},
   "outputs": [],
   "source": [
    "from __future__ import print_function\n",
    "import os, sys, time, datetime, json, random\n",
    "import numpy as np\n",
    "from keras.models import Sequential\n",
    "from keras.layers.core import Dense, Activation\n",
    "from keras.optimizers import SGD , Adam, RMSprop\n",
    "from keras.layers.advanced_activations import PReLU\n",
    "import matplotlib.pyplot as plt\n",
    "from TreasureMaze import TreasureMaze\n",
    "from GameExperience import GameExperience\n",
    "%matplotlib inline"
   ]
  },
  {
   "cell_type": "markdown",
   "metadata": {},
   "source": [
    "The following code block contains an 8x8 matrix that will be used as a maze object:"
   ]
  },
  {
   "cell_type": "code",
   "execution_count": 15,
   "metadata": {},
   "outputs": [],
   "source": [
    "maze = np.array([\n",
    "    [ 1.,  0.,  1.,  1.,  1.,  1.,  1.,  1.],\n",
    "    [ 1.,  0.,  1.,  1.,  1.,  0.,  1.,  1.],\n",
    "    [ 1.,  1.,  1.,  1.,  0.,  1.,  0.,  1.],\n",
    "    [ 1.,  1.,  1.,  0.,  1.,  1.,  1.,  1.],\n",
    "    [ 1.,  1.,  0.,  1.,  1.,  1.,  1.,  1.],\n",
    "    [ 1.,  1.,  1.,  0.,  1.,  0.,  0.,  0.],\n",
    "    [ 1.,  1.,  1.,  0.,  1.,  1.,  1.,  1.],\n",
    "    [ 1.,  1.,  1.,  1.,  0.,  1.,  1.,  1.]\n",
    "])"
   ]
  },
  {
   "cell_type": "markdown",
   "metadata": {},
   "source": [
    "This helper function allows a visual representation of the maze object:"
   ]
  },
  {
   "cell_type": "code",
   "execution_count": 16,
   "metadata": {},
   "outputs": [],
   "source": [
    "def show(qmaze):\n",
    "    plt.grid('on')\n",
    "    nrows, ncols = qmaze.maze.shape\n",
    "    ax = plt.gca()\n",
    "    ax.set_xticks(np.arange(0.5, nrows, 1))\n",
    "    ax.set_yticks(np.arange(0.5, ncols, 1))\n",
    "    ax.set_xticklabels([])\n",
    "    ax.set_yticklabels([])\n",
    "    canvas = np.copy(qmaze.maze)\n",
    "    for row,col in qmaze.visited:\n",
    "        canvas[row,col] = 0.6\n",
    "    pirate_row, pirate_col, _ = qmaze.state\n",
    "    canvas[pirate_row, pirate_col] = 0.3   # pirate cell\n",
    "    canvas[nrows-1, ncols-1] = 0.9 # treasure cell\n",
    "    img = plt.imshow(canvas, interpolation='none', cmap='gray')\n",
    "    return img"
   ]
  },
  {
   "cell_type": "markdown",
   "metadata": {},
   "source": [
    "The pirate agent can move in four directions: left, right, up, and down. \n",
    "\n",
    "While the agent primarily learns by experience through exploitation, often, the agent can choose to explore the environment to find previously undiscovered paths. This is called \"exploration\" and is defined by epsilon. This value is typically a lower value such as 0.1, which means for every ten attempts, the agent will attempt to learn by experience nine times and will randomly explore a new path one time. You are encouraged to try various values for the exploration factor and see how the algorithm performs."
   ]
  },
  {
   "cell_type": "code",
   "execution_count": 17,
   "metadata": {},
   "outputs": [],
   "source": [
    "LEFT = 0\n",
    "UP = 1\n",
    "RIGHT = 2\n",
    "DOWN = 3\n",
    "\n",
    "\n",
    "# Exploration factor\n",
    "epsilon = 0.085 # Changed from 0.1\n",
    "decay_factor = 0.99\n",
    "min_epsilon = 0.02\n",
    "\n",
    "# Actions dictionary\n",
    "actions_dict = {\n",
    "    LEFT: 'left',\n",
    "    UP: 'up',\n",
    "    RIGHT: 'right',\n",
    "    DOWN: 'down',\n",
    "}\n",
    "\n",
    "num_actions = len(actions_dict)\n"
   ]
  },
  {
   "cell_type": "markdown",
   "metadata": {},
   "source": [
    "The sample code block and output below show creating a maze object and performing one action (DOWN), which returns the reward. The resulting updated environment is visualized."
   ]
  },
  {
   "cell_type": "code",
   "execution_count": 18,
   "metadata": {},
   "outputs": [
    {
     "name": "stdout",
     "output_type": "stream",
     "text": [
      "reward= -0.04\n"
     ]
    },
    {
     "data": {
      "text/plain": [
       "<matplotlib.image.AxesImage at 0x28890991808>"
      ]
     },
     "execution_count": 18,
     "metadata": {},
     "output_type": "execute_result"
    },
    {
     "data": {
      "image/png": "[encoded data removed]",
      "text/plain": [
       "<Figure size 432x288 with 1 Axes>"
      ]
     },
     "metadata": {
      "needs_background": "light"
     },
     "output_type": "display_data"
    }
   ],
   "source": [
    "qmaze = TreasureMaze(maze)\n",
    "canvas, reward, game_over = qmaze.act(DOWN)\n",
    "print(\"reward=\", reward)\n",
    "show(qmaze)"
   ]
  },
  {
   "cell_type": "markdown",
   "metadata": {},
   "source": [
    "This function simulates a full game based on the provided trained model. The other parameters include the TreasureMaze object and the starting position of the pirate."
   ]
  },
  {
   "cell_type": "code",
   "execution_count": 19,
   "metadata": {},
   "outputs": [],
   "source": [
    "def play_game(model, qmaze, pirate_cell):\n",
    "    qmaze.reset(pirate_cell)\n",
    "    envstate = qmaze.observe()\n",
    "    while True:\n",
    "        prev_envstate = envstate\n",
    "        # get next action\n",
    "        q = model.predict(prev_envstate)\n",
    "        action = np.argmax(q[0])\n",
    "\n",
    "        # apply action, get rewards and new state\n",
    "        envstate, reward, game_status = qmaze.act(action)\n",
    "        if game_status == 'win':\n",
    "            return True\n",
    "        elif game_status == 'lose':\n",
    "            return False"
   ]
  },
  {
   "cell_type": "markdown",
   "metadata": {},
   "source": [
    "This function helps you to determine whether the pirate can win any game at all. If your maze is not well designed, the pirate may not win any game at all. In this case, your training would not yield any result. The provided maze in this notebook ensures that there is a path to win and you can run this method to check."
   ]
  },
  {
   "cell_type": "code",
   "execution_count": 20,
   "metadata": {},
   "outputs": [],
   "source": [
    "def completion_check(model, qmaze):\n",
    "    for cell in qmaze.free_cells:\n",
    "        if not qmaze.valid_actions(cell):\n",
    "            return False\n",
    "        if not play_game(model, qmaze, cell):\n",
    "            return False\n",
    "    return True"
   ]
  },
  {
   "cell_type": "markdown",
   "metadata": {},
   "source": [
    "The code you have been given in this block will build the neural network model. Review the code and note the number of layers, as well as the activation, optimizer, and loss functions that are used to train the model."
   ]
  },
  {
   "cell_type": "code",
   "execution_count": 21,
   "metadata": {},
   "outputs": [],
   "source": [
    "def build_model(maze):\n",
    "    model = Sequential()\n",
    "    model.add(Dense(maze.size, input_shape=(maze.size,)))\n",
    "    model.add(PReLU())\n",
    "    model.add(Dense(maze.size))\n",
    "    model.add(PReLU())\n",
    "    model.add(Dense(num_actions))\n",
    "    model.compile(optimizer='adam', loss='mse')\n",
    "    return model"
   ]
  },
  {
   "cell_type": "markdown",
   "metadata": {},
   "source": [
    "# #TODO: Complete the Q-Training Algorithm Code Block\n",
    "\n",
    "This is your deep Q-learning implementation. The goal of your deep Q-learning implementation is to find the best possible navigation sequence that results in reaching the treasure cell while maximizing the reward. In your implementation, you need to determine the optimal number of epochs to achieve a 100% win rate.\n",
    "\n",
    "You will need to complete the section starting with #pseudocode. The pseudocode has been included for you."
   ]
  },
  {
   "cell_type": "code",
   "execution_count": 22,
   "metadata": {},
   "outputs": [],
   "source": [
    "def qtrain(model, maze, **opt):\n",
    "\n",
    "    # exploration factor\n",
    "    global epsilon \n",
    "\n",
    "    # number of epochs\n",
    "    n_epoch = opt.get('n_epoch', 300) # chnaged from 15000\n",
    "\n",
    "    # maximum memory to store episodes\n",
    "    max_memory = opt.get('max_memory', 1000) #Changed from 1000\n",
    "\n",
    "    # maximum data size for training\n",
    "    data_size = opt.get('data_size', 50) # Changed from 50\n",
    "\n",
    "    # start time\n",
    "    start_time = datetime.datetime.now()\n",
    "\n",
    "    # Construct environment/game from numpy array: maze (see above)\n",
    "    qmaze = TreasureMaze(maze)\n",
    "\n",
    "    # Initialize experience replay object\n",
    "    experience = GameExperience(model, max_memory=max_memory)\n",
    "    \n",
    "    win_history = []   # history of win/lose game\n",
    "    hsize = qmaze.maze.size//2   # history window size\n",
    "    win_rate = 0.0\n",
    "    \n",
    "    # Loop over number of epochs used in training\n",
    "    for epoch in range(n_epoch):\n",
    "        \n",
    "        # Randomly select a free cell for starting location of agent\n",
    "        agent_cell = random.choice(qmaze.free_cells)\n",
    "        \n",
    "        # Reset environment with chosen starting cell\n",
    "        qmaze.reset(agent_cell)\n",
    "        \n",
    "        # Observe current environment state\n",
    "        envstate = qmaze.observe()\n",
    "        \n",
    "        # Initialize game_over to False for each new epoch\n",
    "        game_over = False\n",
    "        \n",
    "        # Initialize episode count for current epoch\n",
    "        n_episodes = 0\n",
    "        \n",
    "        # While the game is not over\n",
    "        while not game_over:\n",
    "            # Stores previous environment state\n",
    "            prev_envstate = envstate\n",
    "            # Decide action to take\n",
    "            if np.random.rand() < epsilon:\n",
    "                # Choose random action for exploration\n",
    "                action = np.random.randint(0, num_actions)\n",
    "            else:\n",
    "                # Choose action with highest Q-value for exploitation\n",
    "                q = model.predict(prev_envstate)\n",
    "                action = np.argmax(q[0])\n",
    "            \n",
    "            # Use chosen action to observe new state, reward, and game status\n",
    "            envstate, reward, game_status = qmaze.act(action)\n",
    "            # Update game_over based on game status\n",
    "            game_over = (game_status == 'win') or (game_status == 'lose')\n",
    "            # Store current episode and associated values\n",
    "            episode = [prev_envstate, action, reward, envstate, game_status]\n",
    "            experience.remember(episode)\n",
    "            \n",
    "            # Increment episode\n",
    "            n_episodes += 1\n",
    "            \n",
    "            # Fecthes training data from the experience replay and trains the model\n",
    "            inputs, targets = experience.get_data(data_size=data_size)\n",
    "            loss = model.train_on_batch(inputs, targets)\n",
    "            \n",
    "            # Updates win history based on game status\n",
    "            if game_status == 'win': \n",
    "                win_history.append(1)\n",
    "            else:\n",
    "                win_history.append(0)\n",
    "                \n",
    "        # Calculates win rate over last hsize game if there are enough game played\n",
    "        if len(win_history) > hsize:\n",
    "            win_rate = sum(win_history[-hsize:]) / hsize\n",
    "            \n",
    "        # Implemented a decay factor on the exploration factor\n",
    "        # and a floor for how low it can go\n",
    "        epsilon *= decay_factor\n",
    "        epsilon = max(epsilon, min_epsilon)\n",
    "\n",
    "\n",
    "    #Print the epoch, loss, episodes, win count, and win rate for each epoch\n",
    "        dt = datetime.datetime.now() - start_time\n",
    "        t = format_time(dt.total_seconds())\n",
    "        template = \"Epoch: {:03d}/{:d} | Loss: {:.4f} | Episodes: {:d} | Win count: {:d} | Win rate: {:.3f} | time: {}\"\n",
    "        print(template.format(epoch, n_epoch-1, loss, n_episodes, sum(win_history), win_rate, t))\n",
    "        # We simply check if training has exhausted all free cells and if in all\n",
    "        # cases the agent won.\n",
    "        if win_rate > 0.9 : epsilon = 0.05\n",
    "        if sum(win_history[-hsize:]) == hsize and completion_check(model, qmaze):\n",
    "            print(\"Reached 100%% win rate at epoch: %d\" % (epoch,))\n",
    "            break\n",
    "    \n",
    "    \n",
    "    # Determine the total time for training\n",
    "    dt = datetime.datetime.now() - start_time\n",
    "    seconds = dt.total_seconds()\n",
    "    t = format_time(seconds)\n",
    "\n",
    "    print(\"n_epoch: %d, max_mem: %d, data: %d, time: %s\" % (epoch, max_memory, data_size, t))\n",
    "    return seconds\n",
    "\n",
    "# This is a small utility for printing readable time strings:\n",
    "def format_time(seconds):\n",
    "    if seconds < 400:\n",
    "        s = float(seconds)\n",
    "        return \"%.1f seconds\" % (s,)\n",
    "    elif seconds < 4000:\n",
    "        m = seconds / 60.0\n",
    "        return \"%.2f minutes\" % (m,)\n",
    "    else:\n",
    "        h = seconds / 3600.0\n",
    "        return \"%.2f hours\" % (h,)"
   ]
  },
  {
   "cell_type": "markdown",
   "metadata": {},
   "source": [
    "## Test Your Model\n",
    "\n",
    "Now we will start testing the deep Q-learning implementation. To begin, select **Cell**, then **Run All** from the menu bar. This will run your notebook. As it runs, you should see output begin to appear beneath the next few cells. The code below creates an instance of TreasureMaze."
   ]
  },
  {
   "cell_type": "code",
   "execution_count": 23,
   "metadata": {},
   "outputs": [
    {
     "data": {
      "text/plain": [
       "<matplotlib.image.AxesImage at 0x288909a5388>"
      ]
     },
     "execution_count": 23,
     "metadata": {},
     "output_type": "execute_result"
    },
    {
     "data": {
      "image/png": "[encoded data removed]",
      "text/plain": [
       "<Figure size 432x288 with 1 Axes>"
      ]
     },
     "metadata": {
      "needs_background": "light"
     },
     "output_type": "display_data"
    }
   ],
   "source": [
    "qmaze = TreasureMaze(maze)\n",
    "show(qmaze)"
   ]
  },
  {
   "cell_type": "markdown",
   "metadata": {},
   "source": [
    "In the next code block, you will build your model and train it using deep Q-learning. Note: This step takes several minutes to fully run."
   ]
  },
  {
   "cell_type": "code",
   "execution_count": 24,
   "metadata": {
    "scrolled": true
   },
   "outputs": [
    {
     "name": "stdout",
     "output_type": "stream",
     "text": [
      "Epoch: 000/299 | Loss: 0.0012 | Episodes: 144 | Win count: 0 | Win rate: 0.000 | time: 15.0 seconds\n",
      "Epoch: 001/299 | Loss: 0.0015 | Episodes: 144 | Win count: 0 | Win rate: 0.000 | time: 29.8 seconds\n",
      "Epoch: 002/299 | Loss: 0.0009 | Episodes: 137 | Win count: 0 | Win rate: 0.000 | time: 43.1 seconds\n",
      "Epoch: 003/299 | Loss: 0.0016 | Episodes: 2 | Win count: 1 | Win rate: 0.031 | time: 43.4 seconds\n",
      "Epoch: 004/299 | Loss: 0.0010 | Episodes: 139 | Win count: 1 | Win rate: 0.000 | time: 57.7 seconds\n",
      "Epoch: 005/299 | Loss: 0.0120 | Episodes: 3 | Win count: 2 | Win rate: 0.031 | time: 58.1 seconds\n",
      "Epoch: 006/299 | Loss: 0.0006 | Episodes: 137 | Win count: 2 | Win rate: 0.000 | time: 72.1 seconds\n",
      "Epoch: 007/299 | Loss: 0.0018 | Episodes: 135 | Win count: 2 | Win rate: 0.000 | time: 85.6 seconds\n",
      "Epoch: 008/299 | Loss: 0.0005 | Episodes: 17 | Win count: 3 | Win rate: 0.031 | time: 87.3 seconds\n",
      "Epoch: 009/299 | Loss: 0.0012 | Episodes: 75 | Win count: 4 | Win rate: 0.031 | time: 94.9 seconds\n",
      "Epoch: 010/299 | Loss: 0.0016 | Episodes: 76 | Win count: 5 | Win rate: 0.031 | time: 102.4 seconds\n",
      "Epoch: 011/299 | Loss: 0.0008 | Episodes: 134 | Win count: 5 | Win rate: 0.000 | time: 116.1 seconds\n",
      "Epoch: 012/299 | Loss: 0.0007 | Episodes: 137 | Win count: 5 | Win rate: 0.000 | time: 130.9 seconds\n",
      "Epoch: 013/299 | Loss: 0.0012 | Episodes: 137 | Win count: 5 | Win rate: 0.000 | time: 143.8 seconds\n",
      "Epoch: 014/299 | Loss: 0.0018 | Episodes: 1 | Win count: 6 | Win rate: 0.031 | time: 143.8 seconds\n",
      "Epoch: 015/299 | Loss: 0.0003 | Episodes: 139 | Win count: 6 | Win rate: 0.000 | time: 157.1 seconds\n",
      "Epoch: 016/299 | Loss: 0.0008 | Episodes: 136 | Win count: 6 | Win rate: 0.000 | time: 170.7 seconds\n",
      "Epoch: 017/299 | Loss: 0.0020 | Episodes: 150 | Win count: 6 | Win rate: 0.000 | time: 185.0 seconds\n",
      "Epoch: 018/299 | Loss: 0.0066 | Episodes: 30 | Win count: 7 | Win rate: 0.031 | time: 188.0 seconds\n",
      "Epoch: 019/299 | Loss: 0.0019 | Episodes: 12 | Win count: 8 | Win rate: 0.062 | time: 189.2 seconds\n",
      "Epoch: 020/299 | Loss: 0.0013 | Episodes: 3 | Win count: 9 | Win rate: 0.094 | time: 189.7 seconds\n",
      "Epoch: 021/299 | Loss: 0.0013 | Episodes: 143 | Win count: 9 | Win rate: 0.000 | time: 203.5 seconds\n",
      "Epoch: 022/299 | Loss: 0.0012 | Episodes: 146 | Win count: 9 | Win rate: 0.000 | time: 220.0 seconds\n",
      "Epoch: 023/299 | Loss: 0.0025 | Episodes: 67 | Win count: 10 | Win rate: 0.031 | time: 227.4 seconds\n",
      "Epoch: 024/299 | Loss: 0.0022 | Episodes: 1 | Win count: 11 | Win rate: 0.062 | time: 227.6 seconds\n",
      "Epoch: 025/299 | Loss: 0.0010 | Episodes: 1 | Win count: 12 | Win rate: 0.094 | time: 227.7 seconds\n",
      "Epoch: 026/299 | Loss: 0.0016 | Episodes: 54 | Win count: 13 | Win rate: 0.031 | time: 233.5 seconds\n",
      "Epoch: 027/299 | Loss: 0.0016 | Episodes: 147 | Win count: 13 | Win rate: 0.000 | time: 248.8 seconds\n",
      "Epoch: 028/299 | Loss: 0.0022 | Episodes: 12 | Win count: 14 | Win rate: 0.031 | time: 250.0 seconds\n",
      "Epoch: 029/299 | Loss: 0.0013 | Episodes: 14 | Win count: 15 | Win rate: 0.062 | time: 251.4 seconds\n",
      "Epoch: 030/299 | Loss: 0.0033 | Episodes: 144 | Win count: 15 | Win rate: 0.000 | time: 265.8 seconds\n",
      "Epoch: 031/299 | Loss: 0.0028 | Episodes: 57 | Win count: 16 | Win rate: 0.031 | time: 270.9 seconds\n",
      "Epoch: 032/299 | Loss: 0.0011 | Episodes: 40 | Win count: 17 | Win rate: 0.031 | time: 274.8 seconds\n",
      "Epoch: 033/299 | Loss: 0.0008 | Episodes: 136 | Win count: 17 | Win rate: 0.000 | time: 287.8 seconds\n",
      "Epoch: 034/299 | Loss: 0.0013 | Episodes: 145 | Win count: 17 | Win rate: 0.000 | time: 302.0 seconds\n",
      "Epoch: 035/299 | Loss: 0.0013 | Episodes: 43 | Win count: 18 | Win rate: 0.031 | time: 306.4 seconds\n",
      "Epoch: 036/299 | Loss: 0.0012 | Episodes: 43 | Win count: 19 | Win rate: 0.031 | time: 311.2 seconds\n",
      "Epoch: 037/299 | Loss: 0.0017 | Episodes: 140 | Win count: 19 | Win rate: 0.000 | time: 326.3 seconds\n",
      "Epoch: 038/299 | Loss: 0.0007 | Episodes: 144 | Win count: 19 | Win rate: 0.000 | time: 341.2 seconds\n",
      "Epoch: 039/299 | Loss: 0.0006 | Episodes: 4 | Win count: 20 | Win rate: 0.031 | time: 341.6 seconds\n",
      "Epoch: 040/299 | Loss: 0.0005 | Episodes: 136 | Win count: 21 | Win rate: 0.031 | time: 354.8 seconds\n",
      "Epoch: 041/299 | Loss: 0.0007 | Episodes: 53 | Win count: 22 | Win rate: 0.031 | time: 359.8 seconds\n",
      "Epoch: 042/299 | Loss: 0.0003 | Episodes: 56 | Win count: 23 | Win rate: 0.031 | time: 365.3 seconds\n",
      "Epoch: 043/299 | Loss: 0.0014 | Episodes: 127 | Win count: 24 | Win rate: 0.031 | time: 377.7 seconds\n",
      "Epoch: 044/299 | Loss: 0.0011 | Episodes: 94 | Win count: 25 | Win rate: 0.031 | time: 387.1 seconds\n",
      "Epoch: 045/299 | Loss: 0.0012 | Episodes: 41 | Win count: 26 | Win rate: 0.031 | time: 391.3 seconds\n",
      "Epoch: 046/299 | Loss: 0.0014 | Episodes: 2 | Win count: 27 | Win rate: 0.062 | time: 391.5 seconds\n",
      "Epoch: 047/299 | Loss: 0.0013 | Episodes: 48 | Win count: 28 | Win rate: 0.031 | time: 396.3 seconds\n",
      "Epoch: 048/299 | Loss: 0.0011 | Episodes: 92 | Win count: 29 | Win rate: 0.031 | time: 6.75 minutes\n",
      "Epoch: 049/299 | Loss: 0.0018 | Episodes: 24 | Win count: 30 | Win rate: 0.062 | time: 6.79 minutes\n",
      "Epoch: 050/299 | Loss: 0.0030 | Episodes: 47 | Win count: 31 | Win rate: 0.031 | time: 6.87 minutes\n",
      "Epoch: 051/299 | Loss: 0.0023 | Episodes: 2 | Win count: 32 | Win rate: 0.062 | time: 6.88 minutes\n",
      "Epoch: 052/299 | Loss: 0.0026 | Episodes: 38 | Win count: 33 | Win rate: 0.031 | time: 6.94 minutes\n",
      "Epoch: 053/299 | Loss: 0.0026 | Episodes: 27 | Win count: 34 | Win rate: 0.062 | time: 6.99 minutes\n",
      "Epoch: 054/299 | Loss: 0.0015 | Episodes: 30 | Win count: 35 | Win rate: 0.062 | time: 7.04 minutes\n",
      "Epoch: 055/299 | Loss: 0.0015 | Episodes: 38 | Win count: 36 | Win rate: 0.031 | time: 7.11 minutes\n",
      "Epoch: 056/299 | Loss: 0.0089 | Episodes: 23 | Win count: 37 | Win rate: 0.062 | time: 7.15 minutes\n",
      "Epoch: 057/299 | Loss: 0.0019 | Episodes: 145 | Win count: 38 | Win rate: 0.031 | time: 7.40 minutes\n",
      "Epoch: 058/299 | Loss: 0.0013 | Episodes: 95 | Win count: 39 | Win rate: 0.031 | time: 7.56 minutes\n",
      "Epoch: 059/299 | Loss: 0.0017 | Episodes: 2 | Win count: 40 | Win rate: 0.062 | time: 7.57 minutes\n",
      "Epoch: 060/299 | Loss: 0.0021 | Episodes: 44 | Win count: 41 | Win rate: 0.031 | time: 7.64 minutes\n",
      "Epoch: 061/299 | Loss: 0.0065 | Episodes: 145 | Win count: 42 | Win rate: 0.031 | time: 7.87 minutes\n",
      "Epoch: 062/299 | Loss: 0.0012 | Episodes: 123 | Win count: 43 | Win rate: 0.031 | time: 8.07 minutes\n",
      "Epoch: 063/299 | Loss: 0.0010 | Episodes: 70 | Win count: 44 | Win rate: 0.031 | time: 8.19 minutes\n",
      "Epoch: 064/299 | Loss: 0.0013 | Episodes: 61 | Win count: 45 | Win rate: 0.031 | time: 8.29 minutes\n",
      "Epoch: 065/299 | Loss: 0.0013 | Episodes: 28 | Win count: 46 | Win rate: 0.062 | time: 8.33 minutes\n",
      "Epoch: 066/299 | Loss: 0.0010 | Episodes: 34 | Win count: 47 | Win rate: 0.031 | time: 8.39 minutes\n",
      "Epoch: 067/299 | Loss: 0.0021 | Episodes: 37 | Win count: 48 | Win rate: 0.031 | time: 8.45 minutes\n",
      "Epoch: 068/299 | Loss: 0.0015 | Episodes: 12 | Win count: 49 | Win rate: 0.062 | time: 8.48 minutes\n",
      "Epoch: 069/299 | Loss: 0.0014 | Episodes: 5 | Win count: 50 | Win rate: 0.094 | time: 8.48 minutes\n",
      "Epoch: 070/299 | Loss: 0.0005 | Episodes: 23 | Win count: 51 | Win rate: 0.094 | time: 8.52 minutes\n",
      "Epoch: 071/299 | Loss: 0.0009 | Episodes: 80 | Win count: 52 | Win rate: 0.031 | time: 8.67 minutes\n",
      "Epoch: 072/299 | Loss: 0.0014 | Episodes: 20 | Win count: 53 | Win rate: 0.062 | time: 8.70 minutes\n",
      "Epoch: 073/299 | Loss: 0.0017 | Episodes: 90 | Win count: 54 | Win rate: 0.031 | time: 8.84 minutes\n",
      "Epoch: 074/299 | Loss: 0.0004 | Episodes: 87 | Win count: 55 | Win rate: 0.031 | time: 8.98 minutes\n",
      "Epoch: 075/299 | Loss: 0.0016 | Episodes: 2 | Win count: 56 | Win rate: 0.062 | time: 8.98 minutes\n",
      "Epoch: 076/299 | Loss: 0.0009 | Episodes: 43 | Win count: 57 | Win rate: 0.031 | time: 9.05 minutes\n",
      "Epoch: 077/299 | Loss: 0.0003 | Episodes: 25 | Win count: 58 | Win rate: 0.062 | time: 9.09 minutes\n",
      "Epoch: 078/299 | Loss: 0.0063 | Episodes: 16 | Win count: 59 | Win rate: 0.062 | time: 9.12 minutes\n",
      "Epoch: 079/299 | Loss: 0.0007 | Episodes: 37 | Win count: 60 | Win rate: 0.031 | time: 9.18 minutes\n",
      "Epoch: 080/299 | Loss: 0.0005 | Episodes: 27 | Win count: 61 | Win rate: 0.062 | time: 9.22 minutes\n",
      "Epoch: 081/299 | Loss: 0.0007 | Episodes: 2 | Win count: 62 | Win rate: 0.094 | time: 9.22 minutes\n",
      "Epoch: 082/299 | Loss: 0.0005 | Episodes: 6 | Win count: 63 | Win rate: 0.094 | time: 9.23 minutes\n"
     ]
    },
    {
     "name": "stdout",
     "output_type": "stream",
     "text": [
      "Epoch: 083/299 | Loss: 0.0047 | Episodes: 5 | Win count: 64 | Win rate: 0.125 | time: 9.24 minutes\n",
      "Epoch: 084/299 | Loss: 0.0007 | Episodes: 14 | Win count: 65 | Win rate: 0.156 | time: 9.26 minutes\n",
      "Epoch: 085/299 | Loss: 0.0015 | Episodes: 12 | Win count: 66 | Win rate: 0.125 | time: 9.28 minutes\n",
      "Epoch: 086/299 | Loss: 0.0005 | Episodes: 9 | Win count: 67 | Win rate: 0.094 | time: 9.30 minutes\n",
      "Epoch: 087/299 | Loss: 0.0046 | Episodes: 40 | Win count: 68 | Win rate: 0.031 | time: 9.36 minutes\n",
      "Epoch: 088/299 | Loss: 0.0015 | Episodes: 20 | Win count: 69 | Win rate: 0.062 | time: 9.39 minutes\n",
      "Epoch: 089/299 | Loss: 0.0013 | Episodes: 50 | Win count: 70 | Win rate: 0.031 | time: 9.47 minutes\n",
      "Epoch: 090/299 | Loss: 0.0007 | Episodes: 16 | Win count: 71 | Win rate: 0.062 | time: 9.50 minutes\n",
      "Epoch: 091/299 | Loss: 0.0008 | Episodes: 9 | Win count: 72 | Win rate: 0.094 | time: 9.51 minutes\n",
      "Epoch: 092/299 | Loss: 0.0033 | Episodes: 29 | Win count: 73 | Win rate: 0.062 | time: 9.56 minutes\n",
      "Epoch: 093/299 | Loss: 0.0004 | Episodes: 19 | Win count: 74 | Win rate: 0.062 | time: 9.59 minutes\n",
      "Epoch: 094/299 | Loss: 0.0007 | Episodes: 45 | Win count: 75 | Win rate: 0.031 | time: 9.66 minutes\n",
      "Epoch: 095/299 | Loss: 0.0004 | Episodes: 13 | Win count: 76 | Win rate: 0.062 | time: 9.68 minutes\n",
      "Epoch: 096/299 | Loss: 0.0005 | Episodes: 29 | Win count: 77 | Win rate: 0.062 | time: 9.73 minutes\n",
      "Epoch: 097/299 | Loss: 0.0009 | Episodes: 41 | Win count: 78 | Win rate: 0.031 | time: 9.80 minutes\n",
      "Epoch: 098/299 | Loss: 0.0013 | Episodes: 27 | Win count: 79 | Win rate: 0.062 | time: 9.85 minutes\n",
      "Epoch: 099/299 | Loss: 0.0014 | Episodes: 36 | Win count: 80 | Win rate: 0.031 | time: 9.91 minutes\n",
      "Epoch: 100/299 | Loss: 0.0030 | Episodes: 12 | Win count: 81 | Win rate: 0.062 | time: 9.93 minutes\n",
      "Epoch: 101/299 | Loss: 0.0006 | Episodes: 30 | Win count: 82 | Win rate: 0.062 | time: 9.98 minutes\n",
      "Epoch: 102/299 | Loss: 0.0005 | Episodes: 32 | Win count: 83 | Win rate: 0.031 | time: 10.03 minutes\n",
      "Epoch: 103/299 | Loss: 0.0014 | Episodes: 42 | Win count: 84 | Win rate: 0.031 | time: 10.09 minutes\n",
      "Epoch: 104/299 | Loss: 0.0012 | Episodes: 22 | Win count: 85 | Win rate: 0.062 | time: 10.13 minutes\n",
      "Epoch: 105/299 | Loss: 0.0010 | Episodes: 3 | Win count: 86 | Win rate: 0.094 | time: 10.13 minutes\n",
      "Epoch: 106/299 | Loss: 0.0003 | Episodes: 1 | Win count: 87 | Win rate: 0.125 | time: 10.13 minutes\n",
      "Epoch: 107/299 | Loss: 0.0006 | Episodes: 9 | Win count: 88 | Win rate: 0.125 | time: 10.15 minutes\n",
      "Epoch: 108/299 | Loss: 0.0008 | Episodes: 9 | Win count: 89 | Win rate: 0.156 | time: 10.16 minutes\n",
      "Epoch: 109/299 | Loss: 0.0007 | Episodes: 14 | Win count: 90 | Win rate: 0.094 | time: 10.18 minutes\n",
      "Epoch: 110/299 | Loss: 0.0032 | Episodes: 13 | Win count: 91 | Win rate: 0.094 | time: 10.20 minutes\n",
      "Epoch: 111/299 | Loss: 0.0015 | Episodes: 8 | Win count: 92 | Win rate: 0.094 | time: 10.22 minutes\n",
      "Epoch: 112/299 | Loss: 0.0009 | Episodes: 21 | Win count: 93 | Win rate: 0.094 | time: 10.25 minutes\n",
      "Epoch: 113/299 | Loss: 0.0007 | Episodes: 35 | Win count: 94 | Win rate: 0.031 | time: 10.31 minutes\n",
      "Epoch: 114/299 | Loss: 0.0015 | Episodes: 6 | Win count: 95 | Win rate: 0.062 | time: 10.32 minutes\n",
      "Epoch: 115/299 | Loss: 0.0007 | Episodes: 26 | Win count: 96 | Win rate: 0.062 | time: 10.36 minutes\n",
      "Epoch: 116/299 | Loss: 0.0011 | Episodes: 22 | Win count: 97 | Win rate: 0.062 | time: 10.40 minutes\n",
      "Epoch: 117/299 | Loss: 0.0005 | Episodes: 9 | Win count: 98 | Win rate: 0.094 | time: 10.41 minutes\n",
      "Epoch: 118/299 | Loss: 0.0009 | Episodes: 66 | Win count: 99 | Win rate: 0.031 | time: 10.52 minutes\n",
      "Epoch: 119/299 | Loss: 0.0015 | Episodes: 20 | Win count: 100 | Win rate: 0.062 | time: 10.55 minutes\n",
      "Epoch: 120/299 | Loss: 0.0008 | Episodes: 32 | Win count: 101 | Win rate: 0.031 | time: 10.61 minutes\n",
      "Epoch: 121/299 | Loss: 0.0010 | Episodes: 2 | Win count: 102 | Win rate: 0.062 | time: 10.61 minutes\n",
      "Epoch: 122/299 | Loss: 0.0007 | Episodes: 13 | Win count: 103 | Win rate: 0.094 | time: 10.64 minutes\n",
      "Epoch: 123/299 | Loss: 0.0008 | Episodes: 25 | Win count: 104 | Win rate: 0.062 | time: 10.68 minutes\n",
      "Epoch: 124/299 | Loss: 0.0012 | Episodes: 34 | Win count: 105 | Win rate: 0.031 | time: 10.73 minutes\n",
      "Epoch: 125/299 | Loss: 0.0013 | Episodes: 30 | Win count: 106 | Win rate: 0.062 | time: 10.78 minutes\n",
      "Epoch: 126/299 | Loss: 0.0008 | Episodes: 11 | Win count: 107 | Win rate: 0.062 | time: 10.80 minutes\n",
      "Epoch: 127/299 | Loss: 0.0010 | Episodes: 8 | Win count: 108 | Win rate: 0.094 | time: 10.82 minutes\n",
      "Epoch: 128/299 | Loss: 0.0005 | Episodes: 4 | Win count: 109 | Win rate: 0.125 | time: 10.82 minutes\n",
      "Epoch: 129/299 | Loss: 0.0015 | Episodes: 24 | Win count: 110 | Win rate: 0.094 | time: 10.87 minutes\n",
      "Epoch: 130/299 | Loss: 0.0015 | Episodes: 9 | Win count: 111 | Win rate: 0.062 | time: 10.89 minutes\n",
      "Epoch: 131/299 | Loss: 0.0013 | Episodes: 9 | Win count: 112 | Win rate: 0.094 | time: 10.90 minutes\n",
      "Epoch: 132/299 | Loss: 0.0010 | Episodes: 14 | Win count: 113 | Win rate: 0.094 | time: 10.93 minutes\n",
      "Epoch: 133/299 | Loss: 0.0008 | Episodes: 2 | Win count: 114 | Win rate: 0.125 | time: 10.93 minutes\n",
      "Epoch: 134/299 | Loss: 0.0009 | Episodes: 1 | Win count: 115 | Win rate: 0.156 | time: 10.93 minutes\n",
      "Epoch: 135/299 | Loss: 0.0006 | Episodes: 32 | Win count: 116 | Win rate: 0.031 | time: 10.98 minutes\n",
      "Epoch: 136/299 | Loss: 0.0006 | Episodes: 7 | Win count: 117 | Win rate: 0.062 | time: 10.99 minutes\n",
      "Epoch: 137/299 | Loss: 0.0008 | Episodes: 8 | Win count: 118 | Win rate: 0.094 | time: 11.01 minutes\n",
      "Epoch: 138/299 | Loss: 0.0016 | Episodes: 26 | Win count: 119 | Win rate: 0.062 | time: 11.05 minutes\n",
      "Epoch: 139/299 | Loss: 0.0007 | Episodes: 20 | Win count: 120 | Win rate: 0.062 | time: 11.08 minutes\n",
      "Epoch: 140/299 | Loss: 0.0009 | Episodes: 21 | Win count: 121 | Win rate: 0.062 | time: 11.12 minutes\n",
      "Epoch: 141/299 | Loss: 0.0004 | Episodes: 7 | Win count: 122 | Win rate: 0.094 | time: 11.13 minutes\n",
      "Epoch: 142/299 | Loss: 0.0008 | Episodes: 1 | Win count: 123 | Win rate: 0.125 | time: 11.13 minutes\n",
      "Epoch: 143/299 | Loss: 0.0004 | Episodes: 27 | Win count: 124 | Win rate: 0.094 | time: 11.18 minutes\n",
      "Epoch: 144/299 | Loss: 0.0010 | Episodes: 25 | Win count: 125 | Win rate: 0.062 | time: 11.22 minutes\n",
      "Epoch: 145/299 | Loss: 0.0012 | Episodes: 16 | Win count: 126 | Win rate: 0.062 | time: 11.24 minutes\n",
      "Epoch: 146/299 | Loss: 0.0003 | Episodes: 4 | Win count: 127 | Win rate: 0.094 | time: 11.25 minutes\n",
      "Epoch: 147/299 | Loss: 0.0006 | Episodes: 6 | Win count: 128 | Win rate: 0.125 | time: 11.26 minutes\n",
      "Epoch: 148/299 | Loss: 0.0002 | Episodes: 37 | Win count: 129 | Win rate: 0.031 | time: 11.32 minutes\n",
      "Epoch: 149/299 | Loss: 0.0004 | Episodes: 37 | Win count: 130 | Win rate: 0.031 | time: 11.38 minutes\n",
      "Epoch: 150/299 | Loss: 0.0013 | Episodes: 34 | Win count: 131 | Win rate: 0.031 | time: 11.44 minutes\n",
      "Epoch: 151/299 | Loss: 0.0007 | Episodes: 5 | Win count: 132 | Win rate: 0.062 | time: 11.45 minutes\n",
      "Epoch: 152/299 | Loss: 0.0008 | Episodes: 22 | Win count: 133 | Win rate: 0.094 | time: 11.49 minutes\n",
      "Epoch: 153/299 | Loss: 0.0008 | Episodes: 24 | Win count: 134 | Win rate: 0.062 | time: 11.53 minutes\n",
      "Epoch: 154/299 | Loss: 0.0006 | Episodes: 9 | Win count: 135 | Win rate: 0.062 | time: 11.54 minutes\n",
      "Epoch: 155/299 | Loss: 0.0008 | Episodes: 5 | Win count: 136 | Win rate: 0.094 | time: 11.55 minutes\n",
      "Epoch: 156/299 | Loss: 0.0009 | Episodes: 13 | Win count: 137 | Win rate: 0.125 | time: 11.57 minutes\n",
      "Epoch: 157/299 | Loss: 0.0002 | Episodes: 32 | Win count: 138 | Win rate: 0.031 | time: 11.63 minutes\n",
      "Epoch: 158/299 | Loss: 0.0006 | Episodes: 44 | Win count: 139 | Win rate: 0.031 | time: 11.70 minutes\n",
      "Epoch: 159/299 | Loss: 0.0008 | Episodes: 1 | Win count: 140 | Win rate: 0.062 | time: 11.70 minutes\n",
      "Epoch: 160/299 | Loss: 0.0006 | Episodes: 1 | Win count: 141 | Win rate: 0.094 | time: 11.71 minutes\n",
      "Epoch: 161/299 | Loss: 0.0011 | Episodes: 23 | Win count: 142 | Win rate: 0.125 | time: 11.74 minutes\n",
      "Epoch: 162/299 | Loss: 0.0003 | Episodes: 32 | Win count: 143 | Win rate: 0.031 | time: 11.80 minutes\n",
      "Epoch: 163/299 | Loss: 0.0005 | Episodes: 16 | Win count: 144 | Win rate: 0.062 | time: 11.82 minutes\n",
      "Epoch: 164/299 | Loss: 0.0005 | Episodes: 27 | Win count: 145 | Win rate: 0.062 | time: 11.87 minutes\n"
     ]
    },
    {
     "name": "stdout",
     "output_type": "stream",
     "text": [
      "Epoch: 165/299 | Loss: 0.0003 | Episodes: 28 | Win count: 146 | Win rate: 0.062 | time: 11.92 minutes\n",
      "Epoch: 166/299 | Loss: 0.0010 | Episodes: 37 | Win count: 147 | Win rate: 0.031 | time: 11.99 minutes\n",
      "Epoch: 167/299 | Loss: 0.0010 | Episodes: 62 | Win count: 148 | Win rate: 0.031 | time: 12.09 minutes\n",
      "Epoch: 168/299 | Loss: 0.0017 | Episodes: 51 | Win count: 149 | Win rate: 0.031 | time: 12.17 minutes\n",
      "Epoch: 169/299 | Loss: 0.0007 | Episodes: 17 | Win count: 150 | Win rate: 0.062 | time: 12.20 minutes\n",
      "Epoch: 170/299 | Loss: 0.0012 | Episodes: 26 | Win count: 151 | Win rate: 0.062 | time: 12.24 minutes\n",
      "Epoch: 171/299 | Loss: 0.0009 | Episodes: 31 | Win count: 152 | Win rate: 0.062 | time: 12.29 minutes\n",
      "Epoch: 172/299 | Loss: 0.0007 | Episodes: 31 | Win count: 153 | Win rate: 0.062 | time: 12.34 minutes\n",
      "Epoch: 173/299 | Loss: 0.0006 | Episodes: 6 | Win count: 154 | Win rate: 0.062 | time: 12.36 minutes\n",
      "Epoch: 174/299 | Loss: 0.0011 | Episodes: 23 | Win count: 155 | Win rate: 0.094 | time: 12.39 minutes\n",
      "Epoch: 175/299 | Loss: 0.0007 | Episodes: 34 | Win count: 156 | Win rate: 0.031 | time: 12.45 minutes\n",
      "Epoch: 176/299 | Loss: 0.0011 | Episodes: 7 | Win count: 157 | Win rate: 0.062 | time: 12.46 minutes\n",
      "Epoch: 177/299 | Loss: 0.0009 | Episodes: 4 | Win count: 158 | Win rate: 0.094 | time: 12.46 minutes\n",
      "Epoch: 178/299 | Loss: 0.0008 | Episodes: 27 | Win count: 159 | Win rate: 0.094 | time: 12.51 minutes\n",
      "Epoch: 179/299 | Loss: 0.0009 | Episodes: 15 | Win count: 160 | Win rate: 0.062 | time: 12.54 minutes\n",
      "Epoch: 180/299 | Loss: 0.0011 | Episodes: 38 | Win count: 161 | Win rate: 0.031 | time: 12.60 minutes\n",
      "Epoch: 181/299 | Loss: 0.0008 | Episodes: 46 | Win count: 162 | Win rate: 0.031 | time: 12.67 minutes\n",
      "Epoch: 182/299 | Loss: 0.0013 | Episodes: 36 | Win count: 163 | Win rate: 0.031 | time: 12.73 minutes\n",
      "Epoch: 183/299 | Loss: 0.0013 | Episodes: 17 | Win count: 164 | Win rate: 0.062 | time: 12.76 minutes\n",
      "Epoch: 184/299 | Loss: 0.0006 | Episodes: 7 | Win count: 165 | Win rate: 0.094 | time: 12.77 minutes\n",
      "Epoch: 185/299 | Loss: 0.0007 | Episodes: 9 | Win count: 166 | Win rate: 0.094 | time: 12.78 minutes\n",
      "Epoch: 186/299 | Loss: 0.0011 | Episodes: 1 | Win count: 167 | Win rate: 0.125 | time: 12.78 minutes\n",
      "Epoch: 187/299 | Loss: 0.0010 | Episodes: 19 | Win count: 168 | Win rate: 0.125 | time: 12.81 minutes\n",
      "Epoch: 188/299 | Loss: 0.0007 | Episodes: 22 | Win count: 169 | Win rate: 0.062 | time: 12.85 minutes\n",
      "Epoch: 189/299 | Loss: 0.0018 | Episodes: 1 | Win count: 170 | Win rate: 0.094 | time: 12.85 minutes\n",
      "Epoch: 190/299 | Loss: 0.0007 | Episodes: 21 | Win count: 171 | Win rate: 0.094 | time: 12.88 minutes\n",
      "Epoch: 191/299 | Loss: 0.0009 | Episodes: 19 | Win count: 172 | Win rate: 0.062 | time: 12.92 minutes\n",
      "Epoch: 192/299 | Loss: 0.0004 | Episodes: 12 | Win count: 173 | Win rate: 0.094 | time: 12.93 minutes\n",
      "Epoch: 193/299 | Loss: 0.0005 | Episodes: 17 | Win count: 174 | Win rate: 0.094 | time: 12.96 minutes\n",
      "Epoch: 194/299 | Loss: 0.0008 | Episodes: 1 | Win count: 175 | Win rate: 0.125 | time: 12.96 minutes\n",
      "Epoch: 195/299 | Loss: 0.0010 | Episodes: 11 | Win count: 176 | Win rate: 0.125 | time: 12.98 minutes\n",
      "Epoch: 196/299 | Loss: 0.0004 | Episodes: 26 | Win count: 177 | Win rate: 0.062 | time: 13.03 minutes\n",
      "Epoch: 197/299 | Loss: 0.0002 | Episodes: 21 | Win count: 178 | Win rate: 0.062 | time: 13.07 minutes\n",
      "Epoch: 198/299 | Loss: 0.0001 | Episodes: 9 | Win count: 179 | Win rate: 0.094 | time: 13.09 minutes\n",
      "Epoch: 199/299 | Loss: 0.0003 | Episodes: 25 | Win count: 180 | Win rate: 0.062 | time: 13.13 minutes\n",
      "Epoch: 200/299 | Loss: 0.0005 | Episodes: 9 | Win count: 181 | Win rate: 0.062 | time: 13.14 minutes\n",
      "Epoch: 201/299 | Loss: 0.0001 | Episodes: 25 | Win count: 182 | Win rate: 0.062 | time: 13.18 minutes\n",
      "Epoch: 202/299 | Loss: 0.0003 | Episodes: 24 | Win count: 183 | Win rate: 0.062 | time: 13.22 minutes\n",
      "Epoch: 203/299 | Loss: 0.0003 | Episodes: 9 | Win count: 184 | Win rate: 0.062 | time: 13.23 minutes\n",
      "Epoch: 204/299 | Loss: 0.0005 | Episodes: 10 | Win count: 185 | Win rate: 0.094 | time: 13.25 minutes\n",
      "Epoch: 205/299 | Loss: 0.0001 | Episodes: 6 | Win count: 186 | Win rate: 0.125 | time: 13.26 minutes\n",
      "Epoch: 206/299 | Loss: 0.0008 | Episodes: 17 | Win count: 187 | Win rate: 0.094 | time: 13.29 minutes\n",
      "Epoch: 207/299 | Loss: 0.0007 | Episodes: 15 | Win count: 188 | Win rate: 0.062 | time: 13.31 minutes\n",
      "Epoch: 208/299 | Loss: 0.0002 | Episodes: 18 | Win count: 189 | Win rate: 0.062 | time: 13.34 minutes\n",
      "Epoch: 209/299 | Loss: 0.0005 | Episodes: 26 | Win count: 190 | Win rate: 0.062 | time: 13.38 minutes\n",
      "Epoch: 210/299 | Loss: 0.0004 | Episodes: 19 | Win count: 191 | Win rate: 0.062 | time: 13.40 minutes\n",
      "Epoch: 211/299 | Loss: 0.0014 | Episodes: 1 | Win count: 192 | Win rate: 0.094 | time: 13.41 minutes\n",
      "Epoch: 212/299 | Loss: 0.0006 | Episodes: 22 | Win count: 193 | Win rate: 0.094 | time: 13.43 minutes\n",
      "Epoch: 213/299 | Loss: 0.0002 | Episodes: 8 | Win count: 194 | Win rate: 0.125 | time: 13.44 minutes\n",
      "Epoch: 214/299 | Loss: 0.0002 | Episodes: 6 | Win count: 195 | Win rate: 0.094 | time: 13.45 minutes\n",
      "Epoch: 215/299 | Loss: 0.0002 | Episodes: 2 | Win count: 196 | Win rate: 0.125 | time: 13.45 minutes\n",
      "Epoch: 216/299 | Loss: 0.0005 | Episodes: 29 | Win count: 197 | Win rate: 0.094 | time: 13.48 minutes\n",
      "Epoch: 217/299 | Loss: 0.0002 | Episodes: 25 | Win count: 198 | Win rate: 0.062 | time: 13.51 minutes\n",
      "Epoch: 218/299 | Loss: 0.0001 | Episodes: 1 | Win count: 199 | Win rate: 0.094 | time: 13.51 minutes\n",
      "Epoch: 219/299 | Loss: 0.0001 | Episodes: 7 | Win count: 200 | Win rate: 0.094 | time: 13.52 minutes\n",
      "Epoch: 220/299 | Loss: 0.0001 | Episodes: 19 | Win count: 201 | Win rate: 0.125 | time: 13.54 minutes\n",
      "Epoch: 221/299 | Loss: 0.0001 | Episodes: 37 | Win count: 202 | Win rate: 0.031 | time: 13.59 minutes\n",
      "Epoch: 222/299 | Loss: 0.0005 | Episodes: 24 | Win count: 203 | Win rate: 0.062 | time: 13.61 minutes\n",
      "Epoch: 223/299 | Loss: 0.0001 | Episodes: 9 | Win count: 204 | Win rate: 0.062 | time: 13.62 minutes\n",
      "Epoch: 224/299 | Loss: 0.0001 | Episodes: 29 | Win count: 205 | Win rate: 0.062 | time: 13.65 minutes\n",
      "Epoch: 225/299 | Loss: 0.0003 | Episodes: 6 | Win count: 206 | Win rate: 0.062 | time: 13.66 minutes\n",
      "Epoch: 226/299 | Loss: 0.0001 | Episodes: 33 | Win count: 207 | Win rate: 0.031 | time: 13.70 minutes\n",
      "Epoch: 227/299 | Loss: 0.0005 | Episodes: 8 | Win count: 208 | Win rate: 0.062 | time: 13.71 minutes\n",
      "Epoch: 228/299 | Loss: 0.0005 | Episodes: 20 | Win count: 209 | Win rate: 0.094 | time: 13.73 minutes\n",
      "Epoch: 229/299 | Loss: 0.0002 | Episodes: 21 | Win count: 210 | Win rate: 0.062 | time: 13.76 minutes\n",
      "Epoch: 230/299 | Loss: 0.0004 | Episodes: 35 | Win count: 211 | Win rate: 0.031 | time: 13.82 minutes\n",
      "Epoch: 231/299 | Loss: 0.0001 | Episodes: 9 | Win count: 212 | Win rate: 0.062 | time: 13.84 minutes\n",
      "Epoch: 232/299 | Loss: 0.0007 | Episodes: 18 | Win count: 213 | Win rate: 0.094 | time: 13.86 minutes\n",
      "Epoch: 233/299 | Loss: 0.0007 | Episodes: 18 | Win count: 214 | Win rate: 0.062 | time: 13.89 minutes\n",
      "Epoch: 234/299 | Loss: 0.0004 | Episodes: 19 | Win count: 215 | Win rate: 0.062 | time: 13.92 minutes\n",
      "Epoch: 235/299 | Loss: 0.0006 | Episodes: 16 | Win count: 216 | Win rate: 0.062 | time: 13.95 minutes\n",
      "Epoch: 236/299 | Loss: 0.0001 | Episodes: 8 | Win count: 217 | Win rate: 0.094 | time: 13.96 minutes\n",
      "Epoch: 237/299 | Loss: 0.0002 | Episodes: 7 | Win count: 218 | Win rate: 0.125 | time: 13.97 minutes\n",
      "Epoch: 238/299 | Loss: 0.0003 | Episodes: 21 | Win count: 219 | Win rate: 0.094 | time: 14.01 minutes\n",
      "Epoch: 239/299 | Loss: 0.0002 | Episodes: 21 | Win count: 220 | Win rate: 0.062 | time: 14.04 minutes\n",
      "Epoch: 240/299 | Loss: 0.0003 | Episodes: 4 | Win count: 221 | Win rate: 0.094 | time: 14.05 minutes\n",
      "Epoch: 241/299 | Loss: 0.0001 | Episodes: 6 | Win count: 222 | Win rate: 0.125 | time: 14.06 minutes\n",
      "Epoch: 242/299 | Loss: 0.0002 | Episodes: 31 | Win count: 223 | Win rate: 0.062 | time: 14.11 minutes\n",
      "Epoch: 243/299 | Loss: 0.0003 | Episodes: 16 | Win count: 224 | Win rate: 0.062 | time: 14.14 minutes\n",
      "Epoch: 244/299 | Loss: 0.0004 | Episodes: 32 | Win count: 225 | Win rate: 0.031 | time: 14.20 minutes\n",
      "Epoch: 245/299 | Loss: 0.0002 | Episodes: 23 | Win count: 226 | Win rate: 0.062 | time: 14.24 minutes\n"
     ]
    },
    {
     "name": "stdout",
     "output_type": "stream",
     "text": [
      "Epoch: 246/299 | Loss: 0.0003 | Episodes: 8 | Win count: 227 | Win rate: 0.094 | time: 14.25 minutes\n",
      "Epoch: 247/299 | Loss: 0.0002 | Episodes: 3 | Win count: 228 | Win rate: 0.094 | time: 14.26 minutes\n",
      "Epoch: 248/299 | Loss: 0.0005 | Episodes: 2 | Win count: 229 | Win rate: 0.125 | time: 14.26 minutes\n",
      "Epoch: 249/299 | Loss: 0.0003 | Episodes: 31 | Win count: 230 | Win rate: 0.062 | time: 14.31 minutes\n",
      "Epoch: 250/299 | Loss: 0.0003 | Episodes: 29 | Win count: 231 | Win rate: 0.062 | time: 14.36 minutes\n",
      "Epoch: 251/299 | Loss: 0.0001 | Episodes: 21 | Win count: 232 | Win rate: 0.062 | time: 14.39 minutes\n",
      "Epoch: 252/299 | Loss: 0.0006 | Episodes: 2 | Win count: 233 | Win rate: 0.094 | time: 14.39 minutes\n",
      "Epoch: 253/299 | Loss: 0.0002 | Episodes: 18 | Win count: 234 | Win rate: 0.094 | time: 14.42 minutes\n",
      "Epoch: 254/299 | Loss: 0.0001 | Episodes: 22 | Win count: 235 | Win rate: 0.062 | time: 14.46 minutes\n",
      "Epoch: 255/299 | Loss: 0.0003 | Episodes: 28 | Win count: 236 | Win rate: 0.062 | time: 14.50 minutes\n",
      "Epoch: 256/299 | Loss: 0.0002 | Episodes: 21 | Win count: 237 | Win rate: 0.062 | time: 14.54 minutes\n",
      "Epoch: 257/299 | Loss: 0.0002 | Episodes: 23 | Win count: 238 | Win rate: 0.062 | time: 14.57 minutes\n",
      "Epoch: 258/299 | Loss: 0.0007 | Episodes: 21 | Win count: 239 | Win rate: 0.062 | time: 14.60 minutes\n",
      "Epoch: 259/299 | Loss: 0.0006 | Episodes: 29 | Win count: 240 | Win rate: 0.062 | time: 14.65 minutes\n",
      "Epoch: 260/299 | Loss: 0.0002 | Episodes: 25 | Win count: 241 | Win rate: 0.062 | time: 14.69 minutes\n",
      "Epoch: 261/299 | Loss: 0.0005 | Episodes: 25 | Win count: 242 | Win rate: 0.062 | time: 14.73 minutes\n",
      "Epoch: 262/299 | Loss: 0.0002 | Episodes: 6 | Win count: 243 | Win rate: 0.094 | time: 14.74 minutes\n",
      "Epoch: 263/299 | Loss: 0.0006 | Episodes: 7 | Win count: 244 | Win rate: 0.094 | time: 14.75 minutes\n",
      "Epoch: 264/299 | Loss: 0.0003 | Episodes: 5 | Win count: 245 | Win rate: 0.125 | time: 14.76 minutes\n",
      "Epoch: 265/299 | Loss: 0.0003 | Episodes: 8 | Win count: 246 | Win rate: 0.156 | time: 14.77 minutes\n",
      "Epoch: 266/299 | Loss: 0.0004 | Episodes: 1 | Win count: 247 | Win rate: 0.188 | time: 14.77 minutes\n",
      "Epoch: 267/299 | Loss: 0.0008 | Episodes: 1 | Win count: 248 | Win rate: 0.219 | time: 14.78 minutes\n",
      "Epoch: 268/299 | Loss: 0.0004 | Episodes: 20 | Win count: 249 | Win rate: 0.156 | time: 14.81 minutes\n",
      "Epoch: 269/299 | Loss: 0.0005 | Episodes: 23 | Win count: 250 | Win rate: 0.062 | time: 14.85 minutes\n",
      "Epoch: 270/299 | Loss: 0.0003 | Episodes: 25 | Win count: 251 | Win rate: 0.062 | time: 14.89 minutes\n",
      "Epoch: 271/299 | Loss: 0.0007 | Episodes: 1 | Win count: 252 | Win rate: 0.094 | time: 14.89 minutes\n",
      "Epoch: 272/299 | Loss: 0.0004 | Episodes: 13 | Win count: 253 | Win rate: 0.094 | time: 14.91 minutes\n",
      "Epoch: 273/299 | Loss: 0.0004 | Episodes: 34 | Win count: 254 | Win rate: 0.031 | time: 14.97 minutes\n",
      "Epoch: 274/299 | Loss: 0.0003 | Episodes: 21 | Win count: 255 | Win rate: 0.062 | time: 15.00 minutes\n",
      "Epoch: 275/299 | Loss: 0.0003 | Episodes: 4 | Win count: 256 | Win rate: 0.094 | time: 15.01 minutes\n",
      "Epoch: 276/299 | Loss: 0.0003 | Episodes: 9 | Win count: 257 | Win rate: 0.094 | time: 15.02 minutes\n",
      "Epoch: 277/299 | Loss: 0.0004 | Episodes: 8 | Win count: 258 | Win rate: 0.125 | time: 15.04 minutes\n",
      "Epoch: 278/299 | Loss: 0.0008 | Episodes: 7 | Win count: 259 | Win rate: 0.156 | time: 15.05 minutes\n",
      "Epoch: 279/299 | Loss: 0.0001 | Episodes: 25 | Win count: 260 | Win rate: 0.062 | time: 15.09 minutes\n",
      "Epoch: 280/299 | Loss: 0.0003 | Episodes: 9 | Win count: 261 | Win rate: 0.062 | time: 15.11 minutes\n",
      "Epoch: 281/299 | Loss: 0.0002 | Episodes: 29 | Win count: 262 | Win rate: 0.062 | time: 15.15 minutes\n",
      "Epoch: 282/299 | Loss: 0.0004 | Episodes: 16 | Win count: 263 | Win rate: 0.062 | time: 15.18 minutes\n",
      "Epoch: 283/299 | Loss: 0.0004 | Episodes: 35 | Win count: 264 | Win rate: 0.031 | time: 15.24 minutes\n",
      "Epoch: 284/299 | Loss: 0.0002 | Episodes: 6 | Win count: 265 | Win rate: 0.062 | time: 15.26 minutes\n",
      "Epoch: 285/299 | Loss: 0.0001 | Episodes: 2 | Win count: 266 | Win rate: 0.094 | time: 15.26 minutes\n",
      "Epoch: 286/299 | Loss: 0.0003 | Episodes: 29 | Win count: 267 | Win rate: 0.094 | time: 15.31 minutes\n",
      "Epoch: 287/299 | Loss: 0.0004 | Episodes: 12 | Win count: 268 | Win rate: 0.062 | time: 15.33 minutes\n",
      "Epoch: 288/299 | Loss: 0.0001 | Episodes: 25 | Win count: 269 | Win rate: 0.062 | time: 15.37 minutes\n",
      "Epoch: 289/299 | Loss: 0.0006 | Episodes: 2 | Win count: 270 | Win rate: 0.094 | time: 15.38 minutes\n",
      "Epoch: 290/299 | Loss: 0.0002 | Episodes: 33 | Win count: 271 | Win rate: 0.031 | time: 15.43 minutes\n",
      "Epoch: 291/299 | Loss: 0.0000 | Episodes: 10 | Win count: 272 | Win rate: 0.062 | time: 15.45 minutes\n",
      "Epoch: 292/299 | Loss: 0.0002 | Episodes: 22 | Win count: 273 | Win rate: 0.062 | time: 15.48 minutes\n",
      "Epoch: 293/299 | Loss: 0.0004 | Episodes: 33 | Win count: 274 | Win rate: 0.031 | time: 15.54 minutes\n",
      "Epoch: 294/299 | Loss: 0.0004 | Episodes: 24 | Win count: 275 | Win rate: 0.062 | time: 15.58 minutes\n",
      "Epoch: 295/299 | Loss: 0.0010 | Episodes: 19 | Win count: 276 | Win rate: 0.062 | time: 15.61 minutes\n",
      "Epoch: 296/299 | Loss: 0.0002 | Episodes: 39 | Win count: 277 | Win rate: 0.031 | time: 15.67 minutes\n",
      "Epoch: 297/299 | Loss: 0.0002 | Episodes: 2 | Win count: 278 | Win rate: 0.062 | time: 15.67 minutes\n",
      "Epoch: 298/299 | Loss: 0.0008 | Episodes: 5 | Win count: 279 | Win rate: 0.094 | time: 15.68 minutes\n",
      "Epoch: 299/299 | Loss: 0.0001 | Episodes: 11 | Win count: 280 | Win rate: 0.125 | time: 15.70 minutes\n",
      "n_epoch: 299, max_mem: 512, data: 32, time: 15.70 minutes\n"
     ]
    },
    {
     "data": {
      "text/plain": [
       "941.997036"
      ]
     },
     "execution_count": 24,
     "metadata": {},
     "output_type": "execute_result"
    }
   ],
   "source": [
    "model = build_model(maze)\n",
    "qtrain(model, maze, epochs=1000, max_memory=8*maze.size, data_size=32) # Original values: 1000, 8, 32"
   ]
  },
  {
   "cell_type": "markdown",
   "metadata": {},
   "source": [
    "This cell will check to see if the model passes the completion check. Note: This could take several minutes."
   ]
  },
  {
   "cell_type": "code",
   "execution_count": 25,
   "metadata": {},
   "outputs": [
    {
     "data": {
      "text/plain": [
       "<matplotlib.image.AxesImage at 0x28890bedf88>"
      ]
     },
     "execution_count": 25,
     "metadata": {},
     "output_type": "execute_result"
    },
    {
     "data": {
      "image/png": "[encoded data removed]",
      "text/plain": [
       "<Figure size 432x288 with 1 Axes>"
      ]
     },
     "metadata": {
      "needs_background": "light"
     },
     "output_type": "display_data"
    }
   ],
   "source": [
    "completion_check(model, qmaze)\n",
    "show(qmaze)"
   ]
  },
  {
   "cell_type": "markdown",
   "metadata": {},
   "source": [
    "This cell will test your model for one game. It will start the pirate at the top-left corner and run play_game. The agent should find a path from the starting position to the target (treasure). The treasure is located in the bottom-right corner."
   ]
  },
  {
   "cell_type": "code",
   "execution_count": 26,
   "metadata": {},
   "outputs": [
    {
     "data": {
      "text/plain": [
       "<matplotlib.image.AxesImage at 0x288894f64c8>"
      ]
     },
     "execution_count": 26,
     "metadata": {},
     "output_type": "execute_result"
    },
    {
     "data": {
      "image/png": "[encoded data removed]",
      "text/plain": [
       "<Figure size 432x288 with 1 Axes>"
      ]
     },
     "metadata": {
      "needs_background": "light"
     },
     "output_type": "display_data"
    }
   ],
   "source": [
    "pirate_start = (0, 0)\n",
    "play_game(model, qmaze, pirate_start)\n",
    "show(qmaze)"
   ]
  },
  {
   "cell_type": "markdown",
   "metadata": {},
   "source": [
    "## Save and Submit Your Work\n",
    "After you have finished creating the code for your notebook, save your work. Make sure that your notebook contains your name in the filename (e.g. Doe_Jane_ProjectTwo.ipynb). This will help your instructor access and grade your work easily. Download a copy of your IPYNB file and submit it to Brightspace. Refer to the Jupyter Notebook in Apporto Tutorial if you need help with these tasks."
   ]
  }
 ],
 "metadata": {
  "kernelspec": {
   "display_name": "Python 3",
   "language": "python",
   "name": "python3"
  },
  "language_info": {
   "codemirror_mode": {
    "name": "ipython",
    "version": 3
   },
   "file_extension": ".py",
   "mimetype": "text/x-python",
   "name": "python",
   "nbconvert_exporter": "python",
   "pygments_lexer": "ipython3",
   "version": "3.7.4"
  }
 },
 "nbformat": 4,
 "nbformat_minor": 2
}
